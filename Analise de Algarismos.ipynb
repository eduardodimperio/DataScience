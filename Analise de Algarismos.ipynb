{
 "cells": [
  {
   "cell_type": "code",
   "execution_count": 1,
   "metadata": {},
   "outputs": [],
   "source": [
    "\n",
    "# Standard scientific Python imports\n",
    "import matplotlib.pyplot as plt\n",
    "import numpy as np\n",
    "\n",
    "# Import datasets, classifiers and performance metrics\n",
    "from sklearn import datasets, svm, metrics\n",
    "from sklearn.model_selection import train_test_split\n",
    "from PIL import Image\n",
    "\n"
   ]
  },
  {
   "cell_type": "code",
   "execution_count": 2,
   "metadata": {},
   "outputs": [],
   "source": [
    "# The digits dataset\n",
    "digits = datasets.load_digits()\n",
    "# The data that we are interested in is made of 8x8 images of digits, let's\n",
    "# have a look at the first 4 images, stored in the `images` attribute of the\n",
    "# dataset.  If we were working from image files, we could load them using\n",
    "# matplotlib.pyplot.imread.  Note that each image must have the same size. For these\n",
    "# images, we know which digit they represent: it is given in the 'target' of\n",
    "# the dataset.\n",
    "images_and_labels = list(zip(digits.images, digits.target))"
   ]
  },
  {
   "cell_type": "code",
   "execution_count": 3,
   "metadata": {},
   "outputs": [
    {
     "data": {
      "image/png": "[encoded data removed]",
      "text/plain": [
       "<Figure size 432x288 with 4 Axes>"
      ]
     },
     "metadata": {
      "needs_background": "light"
     },
     "output_type": "display_data"
    }
   ],
   "source": [
    "#Plotagem - Porque trocando o index por um numero fixo ele fixa em 3?\n",
    "\n",
    "for index, (image, label) in enumerate(images_and_labels[:4]):\n",
    "    plt.subplot(2, 4, index + 1)\n",
    "    plt.axis('off')\n",
    "    plt.imshow(image, cmap=plt.cm.gray_r, interpolation='nearest')\n",
    "    plt.title('Training: %i' % label)"
   ]
  },
  {
   "cell_type": "code",
   "execution_count": 4,
   "metadata": {},
   "outputs": [
    {
     "name": "stdout",
     "output_type": "stream",
     "text": [
      "1797\n"
     ]
    },
    {
     "data": {
      "text/plain": [
       "(1797, 8, 8)"
      ]
     },
     "execution_count": 4,
     "metadata": {},
     "output_type": "execute_result"
    }
   ],
   "source": [
    "# To apply a classifier on this data, we need to flatten the image, to\n",
    "# turn the data in a (samples, feature) matrix: - (Linha,Coluna)\n",
    "n_samples = len(digits.images)\n",
    "\n",
    "print(n_samples)\n",
    "digits.images.shape"
   ]
  },
  {
   "cell_type": "code",
   "execution_count": 5,
   "metadata": {},
   "outputs": [
    {
     "data": {
      "text/plain": [
       "(1797, 64)"
      ]
     },
     "execution_count": 5,
     "metadata": {},
     "output_type": "execute_result"
    }
   ],
   "source": [
    "data = digits.images.reshape((n_samples, -1))\n",
    "data.shape"
   ]
  },
  {
   "cell_type": "code",
   "execution_count": 6,
   "metadata": {},
   "outputs": [],
   "source": [
    "X_train, X_test, y_train, y_test = train_test_split(data, digits.target, test_size=0.25)"
   ]
  },
  {
   "cell_type": "code",
   "execution_count": 7,
   "metadata": {},
   "outputs": [],
   "source": [
    "classifier = svm.SVC(gamma=0.001)"
   ]
  },
  {
   "cell_type": "code",
   "execution_count": 8,
   "metadata": {},
   "outputs": [
    {
     "data": {
      "text/plain": [
       "SVC(C=1.0, cache_size=200, class_weight=None, coef0=0.0,\n",
       "  decision_function_shape='ovr', degree=3, gamma=0.001, kernel='rbf',\n",
       "  max_iter=-1, probability=False, random_state=None, shrinking=True,\n",
       "  tol=0.001, verbose=False)"
      ]
     },
     "execution_count": 8,
     "metadata": {},
     "output_type": "execute_result"
    }
   ],
   "source": [
    "classifier.fit(X_train,y_train)"
   ]
  },
  {
   "cell_type": "code",
   "execution_count": 9,
   "metadata": {},
   "outputs": [
    {
     "data": {
      "text/plain": [
       "array([7, 9, 0, 0, 8, 1, 8, 8, 0, 7, 3, 5, 2, 0, 4, 4, 9, 7, 7, 8, 9, 7,\n",
       "       1, 7, 5, 4, 2, 6, 8, 1, 7, 3, 7, 3, 3, 9, 4, 0, 3, 6, 5, 7, 1, 6,\n",
       "       2, 1, 8, 9, 4, 4, 5, 7, 7, 8, 4, 6, 0, 1, 2, 5, 9, 1, 5, 3, 2, 8,\n",
       "       7, 7, 8, 3, 3, 1, 1, 2, 9, 3, 1, 5, 5, 3, 8, 3, 9, 0, 6, 8, 1, 0,\n",
       "       1, 3, 6, 6, 4, 3, 5, 4, 6, 1, 0, 9, 5, 4, 5, 0, 7, 6, 5, 8, 8, 9,\n",
       "       5, 7, 0, 1, 0, 6, 1, 0, 0, 6, 8, 4, 8, 3, 0, 9, 0, 0, 5, 5, 4, 6,\n",
       "       2, 3, 5, 9, 7, 1, 4, 2, 7, 0, 0, 5, 7, 6, 2, 3, 9, 9, 9, 1, 3, 9,\n",
       "       9, 8, 7, 4, 6, 1, 4, 9, 5, 4, 4, 0, 4, 4, 2, 4, 3, 7, 1, 5, 4, 5,\n",
       "       2, 4, 8, 0, 9, 9, 2, 1, 7, 2, 0, 5, 9, 6, 2, 1, 4, 4, 6, 3, 4, 7,\n",
       "       5, 2, 3, 7, 0, 5, 3, 0, 2, 3, 6, 5, 3, 2, 2, 7, 6, 0, 2, 6, 4, 5,\n",
       "       2, 4, 7, 2, 8, 9, 3, 1, 3, 3, 2, 4, 7, 3, 0, 4, 2, 4, 8, 7, 5, 9,\n",
       "       2, 6, 8, 2, 6, 1, 2, 2, 9, 1, 9, 8, 9, 9, 5, 9, 1, 3, 5, 8, 9, 8,\n",
       "       3, 6, 3, 1, 7, 4, 4, 1, 0, 5, 2, 1, 3, 4, 8, 7, 3, 4, 4, 0, 2, 1,\n",
       "       9, 1, 8, 2, 0, 6, 5, 1, 4, 0, 0, 4, 2, 9, 1, 5, 8, 3, 0, 3, 7, 9,\n",
       "       0, 8, 4, 6, 2, 0, 9, 1, 5, 0, 5, 7, 7, 3, 3, 1, 9, 1, 6, 5, 7, 5,\n",
       "       9, 2, 6, 1, 7, 2, 9, 9, 2, 6, 4, 1, 6, 0, 8, 3, 7, 4, 5, 0, 5, 8,\n",
       "       4, 6, 9, 5, 0, 3, 1, 0, 8, 8, 3, 4, 6, 3, 1, 5, 2, 0, 6, 3, 5, 9,\n",
       "       5, 1, 4, 1, 2, 8, 4, 7, 3, 0, 6, 2, 6, 5, 3, 0, 5, 8, 0, 0, 5, 6,\n",
       "       0, 2, 3, 5, 4, 1, 7, 3, 4, 6, 6, 3, 9, 6, 0, 0, 8, 9, 7, 7, 0, 3,\n",
       "       8, 3, 4, 1, 4, 5, 5, 1, 9, 7, 0, 8, 4, 4, 8, 2, 0, 5, 4, 2, 5, 1,\n",
       "       5, 7, 9, 7, 8, 5, 9, 7, 7, 3])"
      ]
     },
     "execution_count": 9,
     "metadata": {},
     "output_type": "execute_result"
    }
   ],
   "source": [
    "classifier.predict(X_test)"
   ]
  },
  {
   "cell_type": "code",
   "execution_count": 10,
   "metadata": {},
   "outputs": [
    {
     "name": "stdout",
     "output_type": "stream",
     "text": [
      "0.9911111111111112\n"
     ]
    }
   ],
   "source": [
    "# Use score method to get accuracy of model\n",
    "score = classifier.score(X_test, y_test)\n",
    "print(score)"
   ]
  },
  {
   "cell_type": "code",
   "execution_count": 11,
   "metadata": {},
   "outputs": [
    {
     "name": "stdout",
     "output_type": "stream",
     "text": [
      "8\n",
      "8\n"
     ]
    }
   ],
   "source": [
    "#CARREGAMENTO E VERIFICACAO DE TAM DE IMAGEM\n",
    "img = Image.open('NUMERO5.jpg').convert('L')\n",
    "width, height = img.size\n",
    "print(width)\n",
    "print(height)"
   ]
  },
  {
   "cell_type": "code",
   "execution_count": 12,
   "metadata": {},
   "outputs": [
    {
     "name": "stdout",
     "output_type": "stream",
     "text": [
      "8\n",
      "8\n"
     ]
    }
   ],
   "source": [
    "#RESIZE CASO NECESSARIO\n",
    "size=8,8\n",
    "img.thumbnail(size,Image.ANTIALIAS)\n",
    "width, height = img.size\n",
    "print(width)\n",
    "print(height)"
   ]
  },
  {
   "cell_type": "code",
   "execution_count": 13,
   "metadata": {},
   "outputs": [
    {
     "data": {
      "text/plain": [
       "<matplotlib.image.AxesImage at 0x1b1cbfd0>"
      ]
     },
     "execution_count": 13,
     "metadata": {},
     "output_type": "execute_result"
    },
    {
     "data": {
      "image/png": "[encoded data removed]",
      "text/plain": [
       "<Figure size 432x288 with 1 Axes>"
      ]
     },
     "metadata": {
      "needs_background": "light"
     },
     "output_type": "display_data"
    }
   ],
   "source": [
    "#VERIFICACAO IMAGEM CARREGADA E TRATADA\n",
    "plt.subplot(2, 4,1)\n",
    "plt.imshow(img, cmap=plt.cm.gray_r, interpolation='nearest')"
   ]
  },
  {
   "cell_type": "code",
   "execution_count": 15,
   "metadata": {},
   "outputs": [
    {
     "data": {
      "text/plain": [
       "array([255, 254, 255, 253, 255, 252, 255, 255, 255, 255, 171, 167, 167,\n",
       "       192, 255, 254, 252, 255, 159, 248, 205, 254, 255, 255, 255, 255,\n",
       "       201, 190, 235, 155, 251, 254, 255, 249, 255, 255, 253, 141, 255,\n",
       "       255, 255, 249, 152, 165, 167, 255, 253, 255, 251, 255, 255, 255,\n",
       "       253, 254, 255, 255, 255, 255, 251, 255, 255, 253, 255, 254],\n",
       "      dtype=uint8)"
      ]
     },
     "execution_count": 15,
     "metadata": {},
     "output_type": "execute_result"
    }
   ],
   "source": [
    "  #TRATAMENTO DA DIMENSAO DA IMAGEM\n",
    "img_array = np.asarray(img)\n",
    "img_array.flatten()\n",
    "    #im = Image.fromarray(a)"
   ]
  },
  {
   "cell_type": "code",
   "execution_count": 16,
   "metadata": {},
   "outputs": [
    {
     "data": {
      "text/plain": [
       "(8, 8)"
      ]
     },
     "execution_count": 16,
     "metadata": {},
     "output_type": "execute_result"
    }
   ],
   "source": [
    "img_array.shape"
   ]
  },
  {
   "cell_type": "code",
   "execution_count": 17,
   "metadata": {},
   "outputs": [
    {
     "data": {
      "text/plain": [
       "array([[255, 254, 255, 253, 255, 252, 255, 255, 255, 255, 171, 167, 167,\n",
       "        192, 255, 254, 252, 255, 159, 248, 205, 254, 255, 255, 255, 255,\n",
       "        201, 190, 235, 155, 251, 254, 255, 249, 255, 255, 253, 141, 255,\n",
       "        255, 255, 249, 152, 165, 167, 255, 253, 255, 251, 255, 255, 255,\n",
       "        253, 254, 255, 255, 255, 255, 251, 255, 255, 253, 255, 254]],\n",
       "      dtype=uint8)"
      ]
     },
     "execution_count": 17,
     "metadata": {},
     "output_type": "execute_result"
    }
   ],
   "source": [
    "#Adequacao da dimensao da imagem\n",
    "data = img_array.reshape((1, 64))\n",
    "data"
   ]
  },
  {
   "cell_type": "code",
   "execution_count": 18,
   "metadata": {},
   "outputs": [
    {
     "data": {
      "text/plain": [
       "array([1])"
      ]
     },
     "execution_count": 18,
     "metadata": {},
     "output_type": "execute_result"
    }
   ],
   "source": [
    "classifier.predict(data)"
   ]
  },
  {
   "cell_type": "code",
   "execution_count": null,
   "metadata": {},
   "outputs": [],
   "source": []
  }
 ],
 "metadata": {
  "kernelspec": {
   "display_name": "Python 3",
   "language": "python",
   "name": "python3"
  },
  "language_info": {
   "codemirror_mode": {
    "name": "ipython",
    "version": 3
   },
   "file_extension": ".py",
   "mimetype": "text/x-python",
   "name": "python",
   "nbconvert_exporter": "python",
   "pygments_lexer": "ipython3",
   "version": "3.7.0"
  }
 },
 "nbformat": 4,
 "nbformat_minor": 2
}
